{
 "cells": [
  {
   "cell_type": "code",
   "execution_count": 2,
   "metadata": {},
   "outputs": [
    {
     "name": "stdout",
     "output_type": "stream",
     "text": [
      "Overwriting mapper2.py\n"
     ]
    }
   ],
   "source": [
    "%%writefile mapper2.py\n",
    "import sys\n",
    "\n",
    "for l in sys.stdin:\n",
    "    lista = l.split(\" \")\n",
    "    campo1 = lista[0]\n",
    "    campo2 = lista[3]\n",
    "    campo3 = int(lista[6])\n",
    "    print(f\"{campo1}\\t{campo2}\\t{campo3}\")\n"
   ]
  },
  {
   "cell_type": "code",
   "execution_count": 8,
   "metadata": {},
   "outputs": [
    {
     "name": "stdout",
     "output_type": "stream",
     "text": [
      "Overwriting reducer2.py\n"
     ]
    }
   ],
   "source": [
    "%%writefile reducer2.py\n",
    "import sys\n",
    "from operator import itemgetter\n",
    "\n",
    "datos2 = []\n",
    "for line in sys.stdin:\n",
    "    key, value1, value2 = line.strip().split('\\t')\n",
    "    datos2.append((key,value1,int(value2)))\n",
    "#datos2.sort(key=itemgetter(2))    \n",
    "datos2.sort(key=lambda x: (x[0], x[2], x[1]))\n",
    "#print(f'{datos2}')\n",
    "\n",
    "for item in datos2:\n",
    "      clave, valor1, valor2 = item\n",
    "      print(f\"{clave}\\t{valor1}\\t{valor2}\")"
   ]
  }
 ],
 "metadata": {
  "kernelspec": {
   "display_name": "Python 3",
   "language": "python",
   "name": "python3"
  },
  "language_info": {
   "codemirror_mode": {
    "name": "ipython",
    "version": 3
   },
   "file_extension": ".py",
   "mimetype": "text/x-python",
   "name": "python",
   "nbconvert_exporter": "python",
   "pygments_lexer": "ipython3",
   "version": "3.9.13"
  },
  "orig_nbformat": 4
 },
 "nbformat": 4,
 "nbformat_minor": 2
}
