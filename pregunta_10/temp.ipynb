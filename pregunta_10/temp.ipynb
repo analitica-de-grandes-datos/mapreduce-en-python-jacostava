{
 "cells": [
  {
   "cell_type": "code",
   "execution_count": 37,
   "metadata": {},
   "outputs": [
    {
     "name": "stdout",
     "output_type": "stream",
     "text": [
      "Overwriting mapper2.py\n"
     ]
    }
   ],
   "source": [
    "%%writefile mapper2.py\n",
    "import sys\n",
    "\n",
    "for l in sys.stdin:\n",
    "    lista = l.strip().split(\"\\t\")\n",
    "    for x in lista[1].split(\",\"):\n",
    "        print(f'{x},{int(lista[0])}')\n"
   ]
  },
  {
   "cell_type": "code",
   "execution_count": 44,
   "metadata": {},
   "outputs": [
    {
     "name": "stdout",
     "output_type": "stream",
     "text": [
      "Overwriting reducer2.py\n"
     ]
    }
   ],
   "source": [
    "%%writefile reducer2.py\n",
    "import sys\n",
    "import itertools\n",
    "from operator import itemgetter\n",
    "\n",
    "letras = []\n",
    "numeros = []\n",
    "datos = []\n",
    "for line in sys.stdin:\n",
    "    key, value = line.strip().split(',')\n",
    "    letras.append(key)\n",
    "    numeros.append(int(value))\n",
    "    datos = list(zip(letras,numeros))\n",
    "#print(f\"{datos}\")\n",
    "\n",
    "lista2 = []\n",
    "for clave, grupo in itertools.groupby(datos,lambda x:x[0]):\n",
    "    listanums = []\n",
    "    for cont in grupo:\n",
    "        listanums.append(cont[1])\n",
    "    trio = (clave,sorted(listanums))\n",
    "    lista2.append(trio)\n",
    "#print(f\"{lista2}\")\n",
    "\n",
    "\n",
    "for item in lista2:\n",
    "     #clave, valor = item\n",
    "     nums = \",\".join(str(valor) for valor in (item[1]))\n",
    "     print(f\"{item[0]}\\t{str(nums)}\")"
   ]
  }
 ],
 "metadata": {
  "kernelspec": {
   "display_name": "Python 3",
   "language": "python",
   "name": "python3"
  },
  "language_info": {
   "codemirror_mode": {
    "name": "ipython",
    "version": 3
   },
   "file_extension": ".py",
   "mimetype": "text/x-python",
   "name": "python",
   "nbconvert_exporter": "python",
   "pygments_lexer": "ipython3",
   "version": "3.9.13"
  },
  "orig_nbformat": 4
 },
 "nbformat": 4,
 "nbformat_minor": 2
}
