{
 "cells": [
  {
   "cell_type": "code",
   "execution_count": 30,
   "metadata": {},
   "outputs": [
    {
     "name": "stdout",
     "output_type": "stream",
     "text": [
      "Overwriting mapper2.py\n"
     ]
    }
   ],
   "source": [
    "%%writefile mapper2.py\n",
    "import sys\n",
    "\n",
    "for l in sys.stdin:\n",
    "  lista = l.split(\",\")\n",
    "  campo1 = lista[0].strip()\n",
    "  campo2 = int(lista[1].strip())\n",
    "  print(f\"{campo1}\\t{campo2}\")\n"
   ]
  },
  {
   "cell_type": "code",
   "execution_count": 36,
   "metadata": {},
   "outputs": [
    {
     "name": "stdout",
     "output_type": "stream",
     "text": [
      "Overwriting reducer2.py\n"
     ]
    }
   ],
   "source": [
    "%%writefile reducer2.py\n",
    "import sys\n",
    "from operator import itemgetter\n",
    "\n",
    "datos2 = []\n",
    "for line in sys.stdin:\n",
    "    key, value = line.strip().split('\\t')\n",
    "    campo1 = line[0].strip()\n",
    "    campo2 = line[2].strip()\n",
    "    datos2.append((campo1,campo2))\n",
    "datos2.sort(key=itemgetter(2))    \n",
    "datos2.sort(key=lambda x: (x[1], x[0]))\n",
    "#print(f'{datos2}')\n",
    "#print(f\"{key},{value}\")\n",
    "\n",
    "for item in datos2:\n",
    "     clave, valor = item\n",
    "     print(f\"{clave},{valor}\")"
   ]
  }
 ],
 "metadata": {
  "kernelspec": {
   "display_name": "Python 3",
   "language": "python",
   "name": "python3"
  },
  "language_info": {
   "codemirror_mode": {
    "name": "ipython",
    "version": 3
   },
   "file_extension": ".py",
   "mimetype": "text/x-python",
   "name": "python",
   "nbconvert_exporter": "python",
   "pygments_lexer": "ipython3",
   "version": "3.9.13"
  },
  "orig_nbformat": 4
 },
 "nbformat": 4,
 "nbformat_minor": 2
}
