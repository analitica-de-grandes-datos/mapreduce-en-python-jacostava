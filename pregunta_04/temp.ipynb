{
 "cells": [
  {
   "cell_type": "code",
   "execution_count": 34,
   "metadata": {},
   "outputs": [
    {
     "name": "stdout",
     "output_type": "stream",
     "text": [
      "Overwriting mapper2.py\n"
     ]
    }
   ],
   "source": [
    "%%writefile mapper2.py\n",
    "import sys\n",
    "\n",
    "for l in sys.stdin:\n",
    "    lista = l.split(\" \")\n",
    "    campo1 = lista[0]\n",
    "    print(f\"{campo1}\")\n"
   ]
  },
  {
   "cell_type": "code",
   "execution_count": 43,
   "metadata": {},
   "outputs": [
    {
     "name": "stdout",
     "output_type": "stream",
     "text": [
      "Overwriting reducer2.py\n"
     ]
    }
   ],
   "source": [
    "%%writefile reducer2.py\n",
    "import sys\n",
    "from collections import Counter\n",
    "\n",
    "datos = []\n",
    "for line in sys.stdin:\n",
    "    key = line.strip().split('\\n')\n",
    "    datos.append(key[0])\n",
    "    #registros = sorted(datos.items())\n",
    "    registros = sorted(list(Counter([x[0] for x in datos]).items()))\n",
    "    #campo1 = line[0].strip()\n",
    "#print(f\"{registros}\")\n",
    "\n",
    "\n",
    "for item in registros:\n",
    "    clave, valor = item\n",
    "    print(f\"{clave},{valor}\")"
   ]
  }
 ],
 "metadata": {
  "kernelspec": {
   "display_name": "Python 3",
   "language": "python",
   "name": "python3"
  },
  "language_info": {
   "codemirror_mode": {
    "name": "ipython",
    "version": 3
   },
   "file_extension": ".py",
   "mimetype": "text/x-python",
   "name": "python",
   "nbconvert_exporter": "python",
   "pygments_lexer": "ipython3",
   "version": "3.9.13"
  },
  "orig_nbformat": 4
 },
 "nbformat": 4,
 "nbformat_minor": 2
}
