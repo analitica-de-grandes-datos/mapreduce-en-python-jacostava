{
 "cells": [
  {
   "cell_type": "code",
   "execution_count": 7,
   "metadata": {},
   "outputs": [
    {
     "name": "stdout",
     "output_type": "stream",
     "text": [
      "Overwriting mapper2.py\n"
     ]
    }
   ],
   "source": [
    "%%writefile mapper2.py\n",
    "import sys\n",
    "\n",
    "for l in sys.stdin:\n",
    "  lista = l.split(\",\")\n",
    "  purpose = lista[3]\n",
    "  amount = lista[4]\n",
    "  print(f\"{purpose}\\t{amount}\")"
   ]
  },
  {
   "cell_type": "code",
   "execution_count": 15,
   "metadata": {},
   "outputs": [
    {
     "name": "stdout",
     "output_type": "stream",
     "text": [
      "Overwriting reducer2.py\n"
     ]
    }
   ],
   "source": [
    "%%writefile reducer2.py\n",
    "import sys\n",
    "\n",
    "current_key = None\n",
    "validador = 0\n",
    "for line in sys.stdin:\n",
    "    key, value = line.strip().split('\\t')\n",
    "    if key == current_key:\n",
    "        if int(value) > validador:\n",
    "            validador = max(validador,int(value))\n",
    "    else:\n",
    "        if current_key is not None:\n",
    "            print(f\"{current_key}\\t{validador}\")\n",
    "        current_key = key\n",
    "        validador = int(value)     \n",
    "\n",
    "# Imprimir el último resultado parcial\n",
    "if current_key is not None:\n",
    "     print(f\"{current_key}\\t{validador}\")"
   ]
  }
 ],
 "metadata": {
  "kernelspec": {
   "display_name": "Python 3",
   "language": "python",
   "name": "python3"
  },
  "language_info": {
   "codemirror_mode": {
    "name": "ipython",
    "version": 3
   },
   "file_extension": ".py",
   "mimetype": "text/x-python",
   "name": "python",
   "nbconvert_exporter": "python",
   "pygments_lexer": "ipython3",
   "version": "3.9.13"
  },
  "orig_nbformat": 4
 },
 "nbformat": 4,
 "nbformat_minor": 2
}
