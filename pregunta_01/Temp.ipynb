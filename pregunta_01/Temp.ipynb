{
 "cells": [
  {
   "cell_type": "code",
   "execution_count": 24,
   "metadata": {},
   "outputs": [
    {
     "name": "stdout",
     "output_type": "stream",
     "text": [
      "Overwriting mapper2.py\n"
     ]
    }
   ],
   "source": [
    "%%writefile mapper.py\n",
    "import sys\n",
    "\n",
    "for l in sys.stdin:\n",
    "  lista = l.split(\",\")\n",
    "  credit_history = lista[2]\n",
    "  print(f\"{credit_history}\\t1\")"
   ]
  },
  {
   "cell_type": "code",
   "execution_count": 34,
   "metadata": {},
   "outputs": [
    {
     "name": "stdout",
     "output_type": "stream",
     "text": [
      "Overwriting reducer2.py\n"
     ]
    }
   ],
   "source": [
    "%%writefile reducer2.py\n",
    "import sys\n",
    "\n",
    "current_key = None\n",
    "count = 0\n",
    "for line in sys.stdin:\n",
    "    key, value = line.strip().split('\\t')  \n",
    "    #sys.stdout.write(l.upper())\n",
    "    if key != current_key:\n",
    "        if current_key is not None:\n",
    "            print(f\"{current_key}\\t{count}\")\n",
    "        current_key = key\n",
    "        count = 0\n",
    "\n",
    "    #Incrementar el contador\n",
    "    count += int(value)\n",
    "\n",
    "# Imprimir el último resultado parcial\n",
    "if current_key is not None:\n",
    "    print(f\"{current_key}\\t{count}\")"
   ]
  },
  {
   "cell_type": "code",
   "execution_count": 33,
   "metadata": {},
   "outputs": [
    {
     "name": "stdout",
     "output_type": "stream",
     "text": [
      "Overwriting reducer2.py\n"
     ]
    }
   ],
   "source": [
    "%%writefile reducer2.py\n",
    "import sys\n",
    "\n",
    "current_key = None\n",
    "count = 0\n",
    "for line in sys.stdin: \n",
    "    sys.stdout.write(line)"
   ]
  }
 ],
 "metadata": {
  "kernelspec": {
   "display_name": "Python 3",
   "language": "python",
   "name": "python3"
  },
  "language_info": {
   "codemirror_mode": {
    "name": "ipython",
    "version": 3
   },
   "file_extension": ".py",
   "mimetype": "text/x-python",
   "name": "python",
   "nbconvert_exporter": "python",
   "pygments_lexer": "ipython3",
   "version": "3.9.13"
  },
  "orig_nbformat": 4
 },
 "nbformat": 4,
 "nbformat_minor": 2
}
